{
 "cells": [
  {
   "cell_type": "code",
   "execution_count": 24,
   "metadata": {},
   "outputs": [],
   "source": [
    "import torch\n",
    "import pathlib\n",
    "import rioxarray\n",
    "import numpy as np\n",
    "import matplotlib.pyplot as plt\n",
    "from torchvision import transforms\n",
    "from segmentation_models_pytorch import Unet\n",
    "\n",
    "def preprocess_image_for_inference(image_path, normalize=False, mean=None, std=None):\n",
    "    # Lee la imagen\n",
    "    image = np.load(image_path).squeeze()\n",
    "    # image = image.transpose(\"y\", \"x\", \"band\").astype(float).values\n",
    "    image = np.moveaxis(image, 0, -1)\n",
    "\n",
    "    # Define la pipeline de preprocesamiento\n",
    "    preprocess_pipeline = transforms.Compose([\n",
    "        transforms.ToTensor()  # Convierte la imagen a tensor\n",
    "    ])\n",
    "\n",
    "    if normalize and mean is not None and std is not None:\n",
    "        preprocess_pipeline.transforms.append(transforms.Normalize(mean=mean, std=std))\n",
    "\n",
    "    # Aplica el preprocesamiento\n",
    "    image = preprocess_pipeline(image).float()\n",
    "    image = image.unsqueeze(0)  # Añade la dimensión de batch\n",
    "\n",
    "    return image\n",
    "\n",
    "def inference_model(checkpoint_path, normalize, mean, std, path_to_image, threshold):\n",
    "    # Load the Student model\n",
    "    model = Unet(encoder_name=\"mit_b1\", in_channels=3, classes=1)\n",
    "    checkpoint = torch.load(checkpoint_path)\n",
    "    filter_ckpt = {k: v for k, v in checkpoint.items()}\n",
    "    model.load_state_dict(filter_ckpt)\n",
    "    model = model.cuda()\n",
    "    model.eval()\n",
    "\n",
    "    # Load the image\n",
    "    image = preprocess_image_for_inference(path_to_image, normalize=normalize, \n",
    "                                           mean=mean, std=std).cuda()\n",
    "    \n",
    "    with torch.no_grad():\n",
    "        output = model(image)\n",
    "        output = (output > threshold).float() ## Binarize the output\n",
    "\n",
    "    output = output.cpu().squeeze().numpy()\n",
    "    return output\n",
    "\n",
    "def get_vis(folder: str):\n",
    "    plt.title(\"S2 SR - 2.5m - Buildings\")\n",
    "    plt.axis(\"off\")\n",
    "    # sr_filename = f\"sr_{date_eval}.png\"\n",
    "    # sr_path = os.path.join(new_folder, sr_filename)\n",
    "    # plt.savefig(sr_path)\n",
    "    # plt.close()"
   ]
  },
  {
   "cell_type": "code",
   "execution_count": 25,
   "metadata": {},
   "outputs": [],
   "source": [
    "image_files = [\"../data/out_superimage/00036_1.npy\"]\n",
    "image_file = image_files[0]\n",
    "checkpoint_path = \"../weights/mit_b1unet_best_model.pth\"\n",
    "threshold = 0.5\n",
    "normalize = True\n",
    "mean = [0.2108307 , 0.1849077 , 0.15864254]\n",
    "std = [0.05045007, 0.0406715 , 0.03748639]\n",
    "\n",
    "out = inference_model(checkpoint_path, normalize, mean, std, image_file, threshold)"
   ]
  },
  {
   "cell_type": "code",
   "execution_count": 21,
   "metadata": {},
   "outputs": [
    {
     "data": {
      "text/plain": [
       "<matplotlib.image.AxesImage at 0x7eb7305c7fa0>"
      ]
     },
     "execution_count": 21,
     "metadata": {},
     "output_type": "execute_result"
    },
    {
     "data": {
      "image/png": "[encoded data removed]",
      "text/plain": [
       "<Figure size 640x480 with 1 Axes>"
      ]
     },
     "metadata": {},
     "output_type": "display_data"
    }
   ],
   "source": [
    "plt.title(\"S2 SR - 2.5m - Buildings\")\n",
    "plt.axis(\"off\")\n",
    "plt.imshow(out, cmap=\"gray\", vmin=0, vmax=1, interpolation=\"none\")"
   ]
  },
  {
   "cell_type": "code",
   "execution_count": null,
   "metadata": {},
   "outputs": [],
   "source": []
  }
 ],
 "metadata": {
  "kernelspec": {
   "display_name": "fastapi",
   "language": "python",
   "name": "python3"
  },
  "language_info": {
   "codemirror_mode": {
    "name": "ipython",
    "version": 3
   },
   "file_extension": ".py",
   "mimetype": "text/x-python",
   "name": "python",
   "nbconvert_exporter": "python",
   "pygments_lexer": "ipython3",
   "version": "3.10.14"
  }
 },
 "nbformat": 4,
 "nbformat_minor": 2
}
