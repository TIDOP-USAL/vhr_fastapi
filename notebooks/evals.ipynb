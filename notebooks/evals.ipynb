{
 "cells": [
  {
   "cell_type": "markdown",
   "metadata": {},
   "source": [
    "## VHR"
   ]
  },
  {
   "cell_type": "code",
   "execution_count": 3,
   "metadata": {},
   "outputs": [],
   "source": [
    "import requests\n",
    "\n",
    "coords = [50.800841, 6.109864]\n",
    "date_ini = \"2021-06-01\"\n",
    "date_end = \"2021-06-15\"\n",
    "\n",
    "url_1 = \"http://212.128.193.128:8000/sentinel2/download_s2\"\n",
    "\n",
    "params = {\n",
    "    \"lat\": coords[0],\n",
    "    \"lon\": coords[1],\n",
    "    \"bands\": ['B04', 'B03', 'B02', 'B08'],\n",
    "    \"start_date\": date_ini,\n",
    "    \"end_date\": date_end,\n",
    "    \"edge_size\": 128\n",
    "}\n",
    "\n",
    "response = requests.post(url_1, json=params, headers={\"Content-Type\": \"application/json\"}, timeout=900)\n",
    "folder = response.json()"
   ]
  },
  {
   "cell_type": "code",
   "execution_count": 5,
   "metadata": {},
   "outputs": [
    {
     "name": "stdout",
     "output_type": "stream",
     "text": [
      "['/usr/src/app/public/output/tmp2brz9ad2/sr_2021-06-11.npy', '/usr/src/app/public/output/tmp2brz9ad2/sr_2021-06-06.npy', '/usr/src/app/public/output/tmp2brz9ad2/sr_2021-06-01.npy']\n"
     ]
    }
   ],
   "source": [
    "url_2 = \"http://212.128.193.128:8000/sentinel2/sr_s2\"\n",
    "\n",
    "params = {\n",
    "    \"folder\": folder\n",
    "}\n",
    "\n",
    "response2 = requests.post(url_2, json=params, headers={\"Content-Type\": \"application/json\"}, timeout=3000)\n",
    "print(response2.json())"
   ]
  },
  {
   "cell_type": "code",
   "execution_count": 6,
   "metadata": {},
   "outputs": [
    {
     "name": "stdout",
     "output_type": "stream",
     "text": [
      "['/usr/src/app/public/output/tmp2brz9ad2/build_2021-06-01.npy', '/usr/src/app/public/output/tmp2brz9ad2/build_2021-06-06.npy', '/usr/src/app/public/output/tmp2brz9ad2/build_2021-06-11.npy']\n"
     ]
    }
   ],
   "source": [
    "url_3 = \"http://212.128.193.128:8000/sentinel2/get_buildings\"\n",
    "\n",
    "params = {\n",
    "    \"folder\": folder\n",
    "}\n",
    "\n",
    "response3 = requests.post(url_3, json=params, headers={\"Content-Type\": \"application/json\"}, timeout=3000)\n",
    "print(response3.json())"
   ]
  },
  {
   "cell_type": "code",
   "execution_count": 7,
   "metadata": {},
   "outputs": [
    {
     "name": "stdout",
     "output_type": "stream",
     "text": [
      "['/usr/src/app/public/output/tmp2brz9ad2/s2_2021-06-11.png', '/usr/src/app/public/output/tmp2brz9ad2/s2_2021-06-06.png', '/usr/src/app/public/output/tmp2brz9ad2/sr_2021-06-11.png', '/usr/src/app/public/output/tmp2brz9ad2/sr_2021-06-06.png', '/usr/src/app/public/output/tmp2brz9ad2/build_2021-06-01.png', '/usr/src/app/public/output/tmp2brz9ad2/build_2021-06-11.png', '/usr/src/app/public/output/tmp2brz9ad2/sr_2021-06-01.png', '/usr/src/app/public/output/tmp2brz9ad2/combined_2021-06-11.png', '/usr/src/app/public/output/tmp2brz9ad2/build_2021-06-06.png', '/usr/src/app/public/output/tmp2brz9ad2/s2_2021-06-01.png', '/usr/src/app/public/output/tmp2brz9ad2/combined_2021-06-01.png', '/usr/src/app/public/output/tmp2brz9ad2/combined_2021-06-06.png']\n"
     ]
    }
   ],
   "source": [
    "url_4 = \"http://212.128.193.128:8000/sentinel2/get_vis\"\n",
    "\n",
    "params = {\n",
    "    \"folder\": folder\n",
    "}\n",
    "\n",
    "response4 = requests.post(url_4, json=params, headers={\"Content-Type\": \"application/json\"}, timeout=900)\n",
    "print(response4.json())"
   ]
  },
  {
   "cell_type": "code",
   "execution_count": 60,
   "metadata": {},
   "outputs": [
    {
     "data": {
      "text/plain": [
       "'/usr/src/app/public/output/tmp4y53k7du'"
      ]
     },
     "execution_count": 60,
     "metadata": {},
     "output_type": "execute_result"
    }
   ],
   "source": [
    "folder"
   ]
  },
  {
   "cell_type": "code",
   "execution_count": 34,
   "metadata": {},
   "outputs": [],
   "source": [
    "import os\n",
    "\n",
    "img_list = [x for x in response4.json() if \"combined\" in x]\n",
    "\n",
    "for image in img_list:\n",
    "    os.system(f\"docker cp roadeye-vhr_fastapi-1:{image} ~/Desktop/out_roadeye/{image.split('/')[-1]}\")"
   ]
  },
  {
   "cell_type": "markdown",
   "metadata": {},
   "source": [
    "## Flood"
   ]
  },
  {
   "cell_type": "code",
   "execution_count": 7,
   "metadata": {},
   "outputs": [],
   "source": [
    "import requests\n",
    "\n",
    "geometry_str = \"\"\n",
    "start_date = \"\"\n",
    "end_date = \"\"\n",
    "url = \"http://212.128.193.128:3000/ee/get-flood?area={geometry_str}&start_date={start_date}&end_date={end_date}\""
   ]
  },
  {
   "cell_type": "code",
   "execution_count": 8,
   "metadata": {},
   "outputs": [],
   "source": [
    "response = requests.get(url)"
   ]
  },
  {
   "cell_type": "code",
   "execution_count": 11,
   "metadata": {},
   "outputs": [],
   "source": [
    "dicc = response.json()\n",
    "# \"https://earthengine.googleapis.com/v1/projects/earthengine-legacy/maps/7ada00d00b20f15b1634e7161301bf02-ca73e234e6e81994922ba1c57e9704ef/tiles/{z}/{x}/{y}\""
   ]
  },
  {
   "cell_type": "code",
   "execution_count": null,
   "metadata": {},
   "outputs": [],
   "source": []
  },
  {
   "cell_type": "markdown",
   "metadata": {},
   "source": [
    "## Time series"
   ]
  },
  {
   "cell_type": "code",
   "execution_count": 16,
   "metadata": {},
   "outputs": [],
   "source": [
    "import requests\n",
    "\n",
    "coords = '[6.109864, 50.800841]'\n",
    "indices = 'NDVI,NDMI'\n",
    "date_ini = \"2021-06-01\"\n",
    "date_end = \"2021-07-30\"\n",
    "\n",
    "url_1 = \"http://212.128.193.128:3000/ee/post-ts\"\n",
    "\n",
    "params = {\n",
    "    'id': \"COPERNICUS/S2_SR_HARMONIZED\",\n",
    "    'area': coords,\n",
    "    'indices': indices,\n",
    "    'reducer': \"mean\",\n",
    "    'start_date': date_ini,\n",
    "    'end_date': date_end,\n",
    "    'cloud_cover': 80\n",
    "      \n",
    "}\n",
    "\n",
    "response = requests.post(url_1, json=params, headers={\"Content-Type\": \"application/json\"})\n",
    "datos = response.json()"
   ]
  },
  {
   "cell_type": "code",
   "execution_count": 17,
   "metadata": {},
   "outputs": [
    {
     "data": {
      "text/plain": [
       "{'dates': [1622544412382,\n",
       "  1623408412146,\n",
       "  1623840412514,\n",
       "  1624704412230,\n",
       "  1625568413194,\n",
       "  1626000414545,\n",
       "  1626864414933],\n",
       " 'NDVI_max': [0.678884873515746,\n",
       "  0.6836646499567848,\n",
       "  0.7729447585906916,\n",
       "  0.8185753640299095,\n",
       "  0.6160535117056856,\n",
       "  0.43758700696055686,\n",
       "  0.7215584415584415],\n",
       " 'NDVI_min': [0.678884873515746,\n",
       "  0.6836646499567848,\n",
       "  0.7729447585906916,\n",
       "  0.8185753640299095,\n",
       "  0.6160535117056856,\n",
       "  0.43758700696055686,\n",
       "  0.7215584415584415],\n",
       " 'NDVI_mean': [0.678884873515746,\n",
       "  0.6836646499567848,\n",
       "  0.7729447585906916,\n",
       "  0.8185753640299095,\n",
       "  0.6160535117056856,\n",
       "  0.43758700696055686,\n",
       "  0.7215584415584415],\n",
       " 'NDMI_max': [0.2846138652972546,\n",
       "  0.27842493847415917,\n",
       "  0.29458472288391296,\n",
       "  0.3470339600641306,\n",
       "  0.30594594594594593,\n",
       "  0.3160577740016992,\n",
       "  0.2912526787453731],\n",
       " 'NDMI_min': [0.2846138652972546,\n",
       "  0.27842493847415917,\n",
       "  0.29458472288391296,\n",
       "  0.3470339600641306,\n",
       "  0.30594594594594593,\n",
       "  0.3160577740016992,\n",
       "  0.2912526787453731],\n",
       " 'NDMI_mean': [0.2846138652972546,\n",
       "  0.27842493847415917,\n",
       "  0.29458472288391296,\n",
       "  0.3470339600641306,\n",
       "  0.30594594594594593,\n",
       "  0.3160577740016992,\n",
       "  0.2912526787453731]}"
      ]
     },
     "execution_count": 17,
     "metadata": {},
     "output_type": "execute_result"
    }
   ],
   "source": [
    "datos"
   ]
  },
  {
   "cell_type": "code",
   "execution_count": null,
   "metadata": {},
   "outputs": [],
   "source": []
  }
 ],
 "metadata": {
  "kernelspec": {
   "display_name": "fastapi",
   "language": "python",
   "name": "python3"
  },
  "language_info": {
   "codemirror_mode": {
    "name": "ipython",
    "version": 3
   },
   "file_extension": ".py",
   "mimetype": "text/x-python",
   "name": "python",
   "nbconvert_exporter": "python",
   "pygments_lexer": "ipython3",
   "version": "3.10.14"
  }
 },
 "nbformat": 4,
 "nbformat_minor": 2
}
