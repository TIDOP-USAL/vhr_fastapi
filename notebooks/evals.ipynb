{
 "cells": [
  {
   "cell_type": "code",
   "execution_count": 17,
   "metadata": {},
   "outputs": [],
   "source": [
    "import requests"
   ]
  },
  {
   "cell_type": "code",
   "execution_count": 124,
   "metadata": {},
   "outputs": [],
   "source": [
    "coords = [40.508124, -3.532603]\n",
    "date_ini = \"2022-07-01\"\n",
    "date_end = \"2022-07-20\"\n",
    "\n",
    "url_1 = \"http://212.128.192.159:8000/sentinel2/download_s2\"\n",
    "\n",
    "params = {\n",
    "    \"lat\": coords[0],\n",
    "    \"lon\": coords[1],\n",
    "    \"bands\": ['B04', 'B03', 'B02', 'B08'],\n",
    "    \"start_date\": date_ini,\n",
    "    \"end_date\": date_end,\n",
    "    \"edge_size\": 64\n",
    "}\n",
    "\n",
    "response = requests.post(url_1, json=params, headers={\"Content-Type\": \"application/json\"}, timeout=900)\n",
    "folder = response.json()"
   ]
  },
  {
   "cell_type": "code",
   "execution_count": 125,
   "metadata": {},
   "outputs": [
    {
     "data": {
      "text/plain": [
       "'/usr/src/app/src/public/tmp632jw3c9'"
      ]
     },
     "execution_count": 125,
     "metadata": {},
     "output_type": "execute_result"
    }
   ],
   "source": [
    "folder"
   ]
  },
  {
   "cell_type": "code",
   "execution_count": 126,
   "metadata": {},
   "outputs": [
    {
     "name": "stdout",
     "output_type": "stream",
     "text": [
      "['/usr/src/app/src/public/tmp632jw3c9/sr_2022-07-10.npy', '/usr/src/app/src/public/tmp632jw3c9/sr_2022-07-15.npy', '/usr/src/app/src/public/tmp632jw3c9/sr_2022-07-07.npy', '/usr/src/app/src/public/tmp632jw3c9/sr_2022-07-05.npy', '/usr/src/app/src/public/tmp632jw3c9/sr_2022-07-17.npy', '/usr/src/app/src/public/tmp632jw3c9/sr_2022-07-02.npy', '/usr/src/app/src/public/tmp632jw3c9/sr_2022-07-12.npy', '/usr/src/app/src/public/tmp632jw3c9/sr_2022-07-20.npy']\n"
     ]
    }
   ],
   "source": [
    "url_2 = \"http://212.128.192.159:8000/sentinel2/sr_s2\"\n",
    "\n",
    "params = {\n",
    "    \"folder\": folder\n",
    "}\n",
    "\n",
    "response2 = requests.post(url_2, json=params, headers={\"Content-Type\": \"application/json\"}, timeout=2000)\n",
    "print(response2.json())"
   ]
  },
  {
   "cell_type": "code",
   "execution_count": 127,
   "metadata": {},
   "outputs": [
    {
     "name": "stdout",
     "output_type": "stream",
     "text": [
      "['/usr/src/app/src/public/tmp632jw3c9/build_2022-07-15.npy', '/usr/src/app/src/public/tmp632jw3c9/build_2022-07-12.npy', '/usr/src/app/src/public/tmp632jw3c9/build_2022-07-20.npy', '/usr/src/app/src/public/tmp632jw3c9/build_2022-07-10.npy', '/usr/src/app/src/public/tmp632jw3c9/build_2022-07-02.npy', '/usr/src/app/src/public/tmp632jw3c9/build_2022-07-05.npy', '/usr/src/app/src/public/tmp632jw3c9/build_2022-07-17.npy', '/usr/src/app/src/public/tmp632jw3c9/build_2022-07-07.npy']\n"
     ]
    }
   ],
   "source": [
    "url_3 = \"http://212.128.192.159:8000/sentinel2/get_buildings\"\n",
    "\n",
    "params = {\n",
    "    \"folder\": folder\n",
    "}\n",
    "\n",
    "response3 = requests.post(url_3, json=params, headers={\"Content-Type\": \"application/json\"}, timeout=999)\n",
    "print(response3.json())"
   ]
  },
  {
   "cell_type": "code",
   "execution_count": 128,
   "metadata": {},
   "outputs": [
    {
     "name": "stdout",
     "output_type": "stream",
     "text": [
      "['/usr/src/app/src/public/tmp632jw3c9/s2_2022-07-20.png', '/usr/src/app/src/public/tmp632jw3c9/s2_2022-07-05.png', '/usr/src/app/src/public/tmp632jw3c9/s2_2022-07-17.png', '/usr/src/app/src/public/tmp632jw3c9/build_2022-07-17.png', '/usr/src/app/src/public/tmp632jw3c9/build_2022-07-10.png', '/usr/src/app/src/public/tmp632jw3c9/combined_2022-07-15.png', '/usr/src/app/src/public/tmp632jw3c9/build_2022-07-20.png', '/usr/src/app/src/public/tmp632jw3c9/combined_2022-07-17.png', '/usr/src/app/src/public/tmp632jw3c9/build_2022-07-15.png', '/usr/src/app/src/public/tmp632jw3c9/combined_2022-07-20.png', '/usr/src/app/src/public/tmp632jw3c9/sr_2022-07-02.png', '/usr/src/app/src/public/tmp632jw3c9/s2_2022-07-02.png', '/usr/src/app/src/public/tmp632jw3c9/sr_2022-07-05.png', '/usr/src/app/src/public/tmp632jw3c9/sr_2022-07-17.png', '/usr/src/app/src/public/tmp632jw3c9/combined_2022-07-10.png', '/usr/src/app/src/public/tmp632jw3c9/s2_2022-07-10.png', '/usr/src/app/src/public/tmp632jw3c9/build_2022-07-05.png', '/usr/src/app/src/public/tmp632jw3c9/sr_2022-07-20.png', '/usr/src/app/src/public/tmp632jw3c9/combined_2022-07-12.png', '/usr/src/app/src/public/tmp632jw3c9/sr_2022-07-15.png', '/usr/src/app/src/public/tmp632jw3c9/combined_2022-07-05.png', '/usr/src/app/src/public/tmp632jw3c9/s2_2022-07-07.png', '/usr/src/app/src/public/tmp632jw3c9/build_2022-07-12.png', '/usr/src/app/src/public/tmp632jw3c9/s2_2022-07-15.png', '/usr/src/app/src/public/tmp632jw3c9/s2_2022-07-12.png', '/usr/src/app/src/public/tmp632jw3c9/sr_2022-07-12.png', '/usr/src/app/src/public/tmp632jw3c9/build_2022-07-02.png', '/usr/src/app/src/public/tmp632jw3c9/build_2022-07-07.png', '/usr/src/app/src/public/tmp632jw3c9/sr_2022-07-10.png', '/usr/src/app/src/public/tmp632jw3c9/sr_2022-07-07.png', '/usr/src/app/src/public/tmp632jw3c9/combined_2022-07-02.png', '/usr/src/app/src/public/tmp632jw3c9/combined_2022-07-07.png']\n"
     ]
    }
   ],
   "source": [
    "url_4 = \"http://212.128.192.159:8000/sentinel2/get_vis\"\n",
    "\n",
    "params = {\n",
    "    \"folder\": folder\n",
    "}\n",
    "\n",
    "response4 = requests.post(url_4, json=params, headers={\"Content-Type\": \"application/json\"}, timeout=900)\n",
    "print(response4.json())"
   ]
  },
  {
   "cell_type": "code",
   "execution_count": 129,
   "metadata": {},
   "outputs": [],
   "source": [
    "import os\n",
    "\n",
    "img_list = [x for x in response4.json() if \"combined\" in x]\n",
    "\n",
    "for image in img_list:\n",
    "    os.system(f\"docker cp roadeye-vhr_fastapi-1:{image} ~/Desktop/out_roadeye/{image.split('/')[-1]}\")"
   ]
  },
  {
   "cell_type": "code",
   "execution_count": null,
   "metadata": {},
   "outputs": [],
   "source": []
  },
  {
   "cell_type": "code",
   "execution_count": null,
   "metadata": {},
   "outputs": [],
   "source": []
  },
  {
   "cell_type": "code",
   "execution_count": 36,
   "metadata": {},
   "outputs": [],
   "source": [
    "import tempfile\n",
    "import os\n",
    "\n",
    "tempfile.tempdir = os.getcwd() + \"/public\"\n",
    "folder = tempfile.mkdtemp()"
   ]
  },
  {
   "cell_type": "code",
   "execution_count": null,
   "metadata": {},
   "outputs": [],
   "source": []
  },
  {
   "cell_type": "code",
   "execution_count": 59,
   "metadata": {},
   "outputs": [
    {
     "data": {
      "text/plain": [
       "'/home/tidop/Desktop/projects/vhr_planet/public/2024-11-07_11-11-48'"
      ]
     },
     "execution_count": 59,
     "metadata": {},
     "output_type": "execute_result"
    }
   ],
   "source": [
    "from datetime import datetime\n",
    "import os\n",
    "\n",
    "os.getcwd() + \"/public/\" + datetime.now().strftime(\"%Y-%m-%d_%H-%M-%S\")"
   ]
  },
  {
   "cell_type": "code",
   "execution_count": 33,
   "metadata": {},
   "outputs": [],
   "source": [
    "# Reset the tempdir to the default value\n",
    "tempfile.tempdir = None"
   ]
  },
  {
   "cell_type": "code",
   "execution_count": 34,
   "metadata": {},
   "outputs": [],
   "source": [
    "folder = tempfile.mkdtemp()"
   ]
  },
  {
   "cell_type": "code",
   "execution_count": 35,
   "metadata": {},
   "outputs": [
    {
     "data": {
      "text/plain": [
       "'/tmp/tmpc87a499a'"
      ]
     },
     "execution_count": 35,
     "metadata": {},
     "output_type": "execute_result"
    }
   ],
   "source": [
    "folder"
   ]
  },
  {
   "cell_type": "code",
   "execution_count": 77,
   "metadata": {},
   "outputs": [
    {
     "data": {
      "text/plain": [
       "'2024-09-07'"
      ]
     },
     "execution_count": 77,
     "metadata": {},
     "output_type": "execute_result"
    }
   ],
   "source": [
    "a = \"/usr/src/app/src/public/tmp5ebko6_k/s2_2024-09-07.png\"\n",
    "a.split(\"_\")[-1].split(\".\")[0]"
   ]
  },
  {
   "cell_type": "code",
   "execution_count": null,
   "metadata": {},
   "outputs": [],
   "source": []
  }
 ],
 "metadata": {
  "kernelspec": {
   "display_name": "fastapi",
   "language": "python",
   "name": "python3"
  },
  "language_info": {
   "codemirror_mode": {
    "name": "ipython",
    "version": 3
   },
   "file_extension": ".py",
   "mimetype": "text/x-python",
   "name": "python",
   "nbconvert_exporter": "python",
   "pygments_lexer": "ipython3",
   "version": "3.10.14"
  }
 },
 "nbformat": 4,
 "nbformat_minor": 2
}
